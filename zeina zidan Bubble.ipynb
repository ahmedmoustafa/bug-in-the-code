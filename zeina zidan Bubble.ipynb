{
  "nbformat": 4,
  "nbformat_minor": 0,
  "metadata": {
    "colab": {
      "provenance": [],
      "include_colab_link": true
    },
    "kernelspec": {
      "name": "python3",
      "display_name": "Python 3"
    },
    "language_info": {
      "name": "python"
    }
  },
  "cells": [
    {
      "cell_type": "markdown",
      "metadata": {
        "id": "view-in-github",
        "colab_type": "text"
      },
      "source": [
        "<a href=\"https://colab.research.google.com/github/zeinazidann/bug-in-the-code/blob/main/zeina%20zidan%20Bubble.ipynb\" target=\"_parent\"><img src=\"https://colab.research.google.com/assets/colab-badge.svg\" alt=\"Open In Colab\"/></a>"
      ]
    },
    {
      "cell_type": "markdown",
      "source": [
        "# Exercise: Bubble Sort\n",
        "\n",
        "Bubble Sort is a simple sorting algorithm that repeatedly steps through a list of elements, compares adjacent elements, and swaps them if they are in the wrong order. The algorithm gets its name from the way smaller elements \"bubble\" to the top of the list as the algorithm executes.\n",
        "\n",
        "The algorithm works by comparing each pair of adjacent elements in the list from left to right, and swapping them if they are in the wrong order. This process is repeated multiple times until the list is fully sorted.\n",
        "\n",
        "Here is the basic algorithm:\n",
        "1. Starting at the beginning of the list, compare each pair of adjacent elements.\n",
        "2. If the elements are in the wrong order (i.e., the first element is greater than the second), swap them.\n",
        "3. Continue stepping through the list and comparing adjacent elements, until the end of the list is reached.\n",
        "\n",
        "Repeat steps 1-3 until no more swaps are needed, indicating that the list is sorted.\n",
        "\n",
        "![Bubble Sort](https://www.w3resource.com/w3r_images/bubble-short.png)\n",
        "\n",
        "Write a Python program to perform a bubble sort on the following list, and display the sorted list as the output\n",
        "\n",
        "`items = [5, 3, 8, 6, 7, 2]`"
      ],
      "metadata": {
        "id": "m9oLXM3MrN9j"
      }
    },
    {
      "cell_type": "code",
      "execution_count": 14,
      "metadata": {
        "colab": {
          "base_uri": "https://localhost:8080/"
        },
        "id": "P66CNd0brJqi",
        "outputId": "10531736-767d-490b-aab8-87799a3eb7ac"
      },
      "outputs": [
        {
          "output_type": "execute_result",
          "data": {
            "text/plain": [
              "[5, 3, 8, 6, 7, 2]"
            ]
          },
          "metadata": {},
          "execution_count": 14
        }
      ],
      "source": [
        "items = [5, 3, 8, 6, 7, 2]\n",
        "items"
      ]
    },
    {
      "cell_type": "code",
      "source": [
        "flag = True\n",
        "while flag:\n",
        "  flag = False\n",
        "  for i in range(0,len(items)-1):\n",
        "   if items[i]>items[i+1]:\n",
        "    items[i], items[i+1]= items[i+1], items[i]\n",
        "    flag = True \n",
        "  print(items)"
      ],
      "metadata": {
        "id": "WyiMEe4SreEp",
        "outputId": "85be3dfe-a779-4e9b-bc13-d91ccaf6e77c",
        "colab": {
          "base_uri": "https://localhost:8080/"
        }
      },
      "execution_count": 15,
      "outputs": [
        {
          "output_type": "stream",
          "name": "stdout",
          "text": [
            "[3, 5, 6, 7, 2, 8]\n",
            "[3, 5, 6, 2, 7, 8]\n",
            "[3, 5, 2, 6, 7, 8]\n",
            "[3, 2, 5, 6, 7, 8]\n",
            "[2, 3, 5, 6, 7, 8]\n",
            "[2, 3, 5, 6, 7, 8]\n"
          ]
        }
      ]
    }
  ]
}