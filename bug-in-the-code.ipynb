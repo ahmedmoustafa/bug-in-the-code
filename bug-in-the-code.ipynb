{
  "nbformat": 4,
  "nbformat_minor": 0,
  "metadata": {
    "colab": {
      "provenance": [],
      "include_colab_link": true
    },
    "kernelspec": {
      "name": "python3",
      "display_name": "Python 3"
    },
    "language_info": {
      "name": "python"
    }
  },
  "cells": [
    {
      "cell_type": "markdown",
      "metadata": {
        "id": "view-in-github",
        "colab_type": "text"
      },
      "source": [
        "<a href=\"https://colab.research.google.com/github/malakwalaa/bug-in-the-code/blob/main/bug-in-the-code.ipynb\" target=\"_parent\"><img src=\"https://colab.research.google.com/assets/colab-badge.svg\" alt=\"Open In Colab\"/></a>"
      ]
    },
    {
      "cell_type": "markdown",
      "source": [
        "# Bug in the Code"
      ],
      "metadata": {
        "id": "bnCBPHTZKmq9"
      }
    },
    {
      "cell_type": "code",
      "source": [
        "print ('Python is the world's most popular programming language!')"
      ],
      "metadata": {
        "id": "WYtzjfZbKp_W"
      },
      "execution_count": null,
      "outputs": []
    },
    {
      "cell_type": "code",
      "source": [
        "print(\"Python is the world's most popular programming language!\")"
      ],
      "metadata": {
        "id": "BReKPg0KKzTV",
        "outputId": "df2c7d59-ab80-4893-ba43-848cec31288e",
        "colab": {
          "base_uri": "https://localhost:8080/"
        }
      },
      "execution_count": 2,
      "outputs": [
        {
          "output_type": "stream",
          "name": "stdout",
          "text": [
            "Python is the world's most popular programming language!\n"
          ]
        }
      ]
    }
  ]
}