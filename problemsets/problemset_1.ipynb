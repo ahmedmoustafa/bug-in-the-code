{
  "cells": [
    {
      "cell_type": "markdown",
      "metadata": {
        "id": "view-in-github",
        "colab_type": "text"
      },
      "source": [
        "<a href=\"https://colab.research.google.com/github/malakwalaa/bug-in-the-code/blob/main/problemsets/problemset_1.ipynb\" target=\"_parent\"><img src=\"https://colab.research.google.com/assets/colab-badge.svg\" alt=\"Open In Colab\"/></a>"
      ]
    },
    {
      "cell_type": "markdown",
      "metadata": {
        "id": "iDwh0QTgxS4g"
      },
      "source": [
        "# Python Programming Problem Set #1"
      ]
    },
    {
      "cell_type": "markdown",
      "metadata": {
        "id": "GW5CnmyCdgxh"
      },
      "source": [
        "## Q1. Prime numbers\n",
        "Write a program that prints out all prime numbers between 1 and 100.\n"
      ]
    },
    {
      "cell_type": "markdown",
      "metadata": {
        "id": "xgi2gd9hdmen"
      },
      "source": [
        "## Q2. Square roots\n",
        "\n",
        "Write a program that calculates the square root of the numbers 1 to 10 and stores the results in a dictionary, where the keys are the numbers and the values are their square roots.\n",
        "\n",
        "**Hint**: to calculate the square root of a number in Python, you may raise to the power of 0.5 or use the [`math.sqrt()`](https://www.geeksforgeeks.org/python-math-function-sqrt/) method.\n",
        "\n",
        "**Example**:"
      ]
    },
    {
      "cell_type": "code",
      "execution_count": null,
      "metadata": {
        "colab": {
          "base_uri": "https://localhost:8080/"
        },
        "id": "yILfz_PNePEV",
        "outputId": "29185dfb-79d4-4785-fe12-164bc419b03d"
      },
      "outputs": [
        {
          "name": "stdout",
          "output_type": "stream",
          "text": [
            "4.0\n"
          ]
        }
      ],
      "source": [
        "num = 16\n",
        "print (num ** 0.5)"
      ]
    },
    {
      "cell_type": "code",
      "execution_count": null,
      "metadata": {
        "colab": {
          "base_uri": "https://localhost:8080/"
        },
        "id": "D56j5eH3ed0h",
        "outputId": "385e50cf-088a-4c76-b130-6019f0b1bbe4"
      },
      "outputs": [
        {
          "name": "stdout",
          "output_type": "stream",
          "text": [
            "4.0\n"
          ]
        }
      ],
      "source": [
        "import math\n",
        "print (math.sqrt(num))"
      ]
    },
    {
      "cell_type": "markdown",
      "metadata": {
        "id": "U2p9H93eexFW"
      },
      "source": [
        "## Q3. Reversing a list\n",
        "\n",
        "Write a program that takes a list of numbers and reverses it without using the [`reverse()`](https://www.geeksforgeeks.org/python-list-reverse/) method"
      ]
    },
    {
      "cell_type": "code",
      "execution_count": null,
      "metadata": {
        "colab": {
          "base_uri": "https://localhost:8080/"
        },
        "id": "SmmTglyOgLSg",
        "outputId": "fb393472-9cd7-4fcd-f10b-7907d063dcd0"
      },
      "outputs": [
        {
          "data": {
            "text/plain": [
              "[1, 2, 3, 4, 5]"
            ]
          },
          "execution_count": 4,
          "metadata": {},
          "output_type": "execute_result"
        }
      ],
      "source": [
        "lst = [1, 2, 3, 4, 5]\n",
        "lst"
      ]
    },
    {
      "cell_type": "markdown",
      "metadata": {
        "id": "Nt-6lcLRfMEl"
      },
      "source": [
        "## Q4. Palindrome checker\n",
        "\n",
        "A palindrome is a word, phrase, number, or other sequence of characters that reads the same forward and backward. Write a program that checks if a given string is a palindrome.\n"
      ]
    },
    {
      "cell_type": "code",
      "execution_count": null,
      "metadata": {
        "colab": {
          "base_uri": "https://localhost:8080/",
          "height": 35
        },
        "id": "Xf-5t5pWemZI",
        "outputId": "d6629a54-8834-4341-f21a-fd66da219535"
      },
      "outputs": [
        {
          "data": {
            "text/plain": [
              "'racecar'"
            ]
          },
          "execution_count": 5,
          "metadata": {},
          "output_type": "execute_result"
        }
      ],
      "source": [
        "word = \"racecar\"\n",
        "word"
      ]
    },
    {
      "cell_type": "markdown",
      "metadata": {
        "id": "FwKudp-BfdZe"
      },
      "source": [
        "## Q5. Sum of squares\n",
        "\n",
        "Write a program that calculates the sum of the squares of the first 10 positive integers."
      ]
    },
    {
      "cell_type": "markdown",
      "metadata": {
        "id": "hAo0pg7uf7vl"
      },
      "source": [
        "## Q6. Average of numbers\n",
        "\n",
        "Write a program that calculates the average of a list of numbers."
      ]
    },
    {
      "cell_type": "code",
      "execution_count": null,
      "metadata": {
        "colab": {
          "base_uri": "https://localhost:8080/"
        },
        "id": "AgnWKt5dgEkJ",
        "outputId": "b0837f06-1793-478e-bf11-9f54a320190d"
      },
      "outputs": [
        {
          "data": {
            "text/plain": [
              "[1, 2, 3, 4, 5]"
            ]
          },
          "execution_count": 6,
          "metadata": {},
          "output_type": "execute_result"
        }
      ],
      "source": [
        "numbers = [1, 2, 3, 4, 5]\n",
        "numbers"
      ]
    },
    {
      "cell_type": "markdown",
      "metadata": {
        "id": "2Bwt7jA0gh46"
      },
      "source": [
        "## Q7. Median of a list\n",
        "\n",
        "Write a program that calculates the median of a list of numbers. The median is the middle value in a list. If the list has an odd number of values, the median is the middle value. If the list has an even number of values, the median is the average of the middle two values.\n",
        "\n",
        "**Hint:** You will need to sort the list first."
      ]
    },
    {
      "cell_type": "code",
      "execution_count": null,
      "metadata": {
        "colab": {
          "base_uri": "https://localhost:8080/"
        },
        "id": "Oi4xS5ILf64u",
        "outputId": "37b821c3-6d4d-4572-fa90-9579888a5db0"
      },
      "outputs": [
        {
          "data": {
            "text/plain": [
              "[8, 4, 2, 6, 10]"
            ]
          },
          "execution_count": 7,
          "metadata": {},
          "output_type": "execute_result"
        }
      ],
      "source": [
        "numbers = [8, 4, 2, 6, 10]\n",
        "numbers"
      ]
    },
    {
      "cell_type": "code",
      "execution_count": null,
      "metadata": {
        "colab": {
          "base_uri": "https://localhost:8080/"
        },
        "id": "-e3aNkfRhmz-",
        "outputId": "c5efeb3b-9a5d-45d3-d1f6-324431227e8c"
      },
      "outputs": [
        {
          "data": {
            "text/plain": [
              "[2, 4, 6, 8, 10]"
            ]
          },
          "execution_count": 8,
          "metadata": {},
          "output_type": "execute_result"
        }
      ],
      "source": [
        "numbers.sort() # to sort the list ascendingly\n",
        "numbers"
      ]
    },
    {
      "cell_type": "markdown",
      "metadata": {
        "id": "rqdKAZCHiFo8"
      },
      "source": [
        "## Q8. FizzBuzz\n",
        "\n",
        "Write a program that prints the numbers from 1 to 100. But for multiples of three, print `Fizz` instead of the number, and for multiples of five, print `Buzz`. For numbers that are multiples of both three and five, print `FizzBuzz`.\n",
        "\n",
        "**Hint:**. You may use the [modulus](https://www.khanacademy.org/computing/computer-science/cryptography/modarithmetic/a/what-is-modular-arithmetic) operator [`%`](https://www.geeksforgeeks.org/python-operators/).\n",
        "\n",
        "**Example:**"
      ]
    },
    {
      "cell_type": "code",
      "execution_count": null,
      "metadata": {
        "colab": {
          "base_uri": "https://localhost:8080/"
        },
        "id": "a-hAMMEJifwo",
        "outputId": "4e0afe6d-680c-4661-d143-af257ee89252"
      },
      "outputs": [
        {
          "data": {
            "text/plain": [
              "0"
            ]
          },
          "execution_count": 9,
          "metadata": {},
          "output_type": "execute_result"
        }
      ],
      "source": [
        "9 % 3"
      ]
    },
    {
      "cell_type": "code",
      "execution_count": null,
      "metadata": {
        "colab": {
          "base_uri": "https://localhost:8080/"
        },
        "id": "qAlj_D9KlTML",
        "outputId": "b4828cf8-623f-4c5c-e673-b57e7776eb66"
      },
      "outputs": [
        {
          "data": {
            "text/plain": [
              "1"
            ]
          },
          "execution_count": 10,
          "metadata": {},
          "output_type": "execute_result"
        }
      ],
      "source": [
        "10 % 3"
      ]
    },
    {
      "cell_type": "markdown",
      "metadata": {
        "id": "ZGh9YVHfwNvh"
      },
      "source": [
        "## Q9. Count occurrences in a tuple\n",
        "\n",
        "Write a program that takes a tuple of numbers and counts the number of occurrences of a specific number, 5 in the list below."
      ]
    },
    {
      "cell_type": "code",
      "execution_count": null,
      "metadata": {
        "colab": {
          "base_uri": "https://localhost:8080/"
        },
        "id": "AeX70rgYlUk9",
        "outputId": "00019620-37e7-4031-a8c0-27db100660e1"
      },
      "outputs": [
        {
          "data": {
            "text/plain": [
              "(1, 2, 3, 4, 5, 6, 7, 8, 9, 10)"
            ]
          },
          "execution_count": 11,
          "metadata": {},
          "output_type": "execute_result"
        }
      ],
      "source": [
        "numbers = (1, 2, 3, 4, 5, 6, 7, 8, 9, 10)\n",
        "numbers"
      ]
    },
    {
      "cell_type": "markdown",
      "metadata": {
        "id": "gcLTYBTjwnLr"
      },
      "source": [
        "## Q10. Merge dictionaries\n",
        "\n",
        "Write a program that merges two dictionaries (`dict1` and `dict2`) together into in a new dictionary (`merged_dict`). If a key exists in both dictionaries, the value in the second dictionary should overwrite the value in the first dictionary."
      ]
    },
    {
      "cell_type": "code",
      "execution_count": null,
      "metadata": {
        "colab": {
          "base_uri": "https://localhost:8080/"
        },
        "id": "-K8U35Y3wb9h",
        "outputId": "1e89a6a4-f444-45f0-f422-41bb5b97e75d"
      },
      "outputs": [
        {
          "name": "stdout",
          "output_type": "stream",
          "text": [
            "{'a': 1, 'b': 2, 'c': 3}\n"
          ]
        }
      ],
      "source": [
        "dict1 = {\"a\": 1, \"b\": 2, \"c\": 3}\n",
        "print(dict1)"
      ]
    },
    {
      "cell_type": "code",
      "execution_count": null,
      "metadata": {
        "colab": {
          "base_uri": "https://localhost:8080/"
        },
        "id": "whzW4BGJwuG2",
        "outputId": "5d67e03b-7462-4fbc-ea08-45082264ed54"
      },
      "outputs": [
        {
          "name": "stdout",
          "output_type": "stream",
          "text": [
            "{'b': 4, 'c': 5, 'd': 6}\n"
          ]
        }
      ],
      "source": [
        "dict2 = {\"b\": 4, \"c\": 5, \"d\": 6}\n",
        "print(dict2)"
      ]
    },
    {
      "cell_type": "markdown",
      "metadata": {
        "id": "AqLvoqkZxyDh"
      },
      "source": [
        "## Q11. Remove duplicates\n",
        "\n",
        "Write a program that takes a list of numbers and removes any duplicates, keeping only the first occurrence of each number.\n",
        "\n",
        "**Hint:** You may consider using the [membership operator](https://www.geeksforgeeks.org/python-membership-identity-operators-not-not/) (`in`).\n",
        "\n",
        "**Example:**"
      ]
    },
    {
      "cell_type": "code",
      "execution_count": null,
      "metadata": {
        "colab": {
          "base_uri": "https://localhost:8080/"
        },
        "id": "strUc6AMxwmS",
        "outputId": "0931bbc4-ce02-4671-835b-60c9c718c667"
      },
      "outputs": [
        {
          "data": {
            "text/plain": [
              "['apple', 'organge', 'mango', 'banana']"
            ]
          },
          "execution_count": 14,
          "metadata": {},
          "output_type": "execute_result"
        }
      ],
      "source": [
        "fruits = [\"apple\", \"organge\", \"mango\", \"banana\"]\n",
        "fruits"
      ]
    },
    {
      "cell_type": "code",
      "execution_count": null,
      "metadata": {
        "colab": {
          "base_uri": "https://localhost:8080/"
        },
        "id": "z6srEo6FzX7F",
        "outputId": "dd533ea7-13ca-4cfd-f2f4-478c9fda187d"
      },
      "outputs": [
        {
          "data": {
            "text/plain": [
              "True"
            ]
          },
          "execution_count": 15,
          "metadata": {},
          "output_type": "execute_result"
        }
      ],
      "source": [
        "\"mango\" in fruits # checks whether \"mango\" belong the list of above list of fruits and returns boolean true"
      ]
    },
    {
      "cell_type": "code",
      "execution_count": null,
      "metadata": {
        "colab": {
          "base_uri": "https://localhost:8080/"
        },
        "id": "J8E1NxJKzgdl",
        "outputId": "d9bb6c52-ab9d-4b02-b757-e528bed96794"
      },
      "outputs": [
        {
          "data": {
            "text/plain": [
              "False"
            ]
          },
          "execution_count": 16,
          "metadata": {},
          "output_type": "execute_result"
        }
      ],
      "source": [
        "\"grape\" in fruits # checks whether \"graps\" belong the list of above list of fruits and returns boolean false"
      ]
    },
    {
      "cell_type": "code",
      "execution_count": null,
      "metadata": {
        "colab": {
          "base_uri": "https://localhost:8080/"
        },
        "id": "w-9r3bkpzlcv",
        "outputId": "e6fcb84e-9224-41dc-a9d2-c792be9d6090"
      },
      "outputs": [
        {
          "data": {
            "text/plain": [
              "[1, 2, 3, 4, 3, 2, 5, 6, 1]"
            ]
          },
          "execution_count": 17,
          "metadata": {},
          "output_type": "execute_result"
        }
      ],
      "source": [
        "numbers = [1, 2, 3, 4, 3, 2, 5, 6, 1] # list with duplicates\n",
        "numbers"
      ]
    },
    {
      "cell_type": "code",
      "execution_count": null,
      "metadata": {
        "colab": {
          "base_uri": "https://localhost:8080/"
        },
        "id": "dInFtjxMz8dk",
        "outputId": "110bc40f-df5d-4021-f6e6-50701e79c2be"
      },
      "outputs": [
        {
          "data": {
            "text/plain": [
              "[]"
            ]
          },
          "execution_count": 18,
          "metadata": {},
          "output_type": "execute_result"
        }
      ],
      "source": [
        "unique_numbers = [] # list with only unique values (no duplicates)\n",
        "unique_numbers"
      ]
    },
    {
      "cell_type": "markdown",
      "metadata": {
        "id": "2n8DUKrOUuJx"
      },
      "source": [
        "## Q12. Sum\n",
        "\n",
        "Write a program to calculate the sum of all items in a list"
      ]
    },
    {
      "cell_type": "code",
      "execution_count": null,
      "metadata": {
        "id": "bLG4cRYGUuJy",
        "outputId": "59b886b9-1e2c-4cda-f4f7-579729741a54"
      },
      "outputs": [
        {
          "data": {
            "text/plain": [
              "[1, 2, 3, 4, 5]"
            ]
          },
          "execution_count": 19,
          "metadata": {},
          "output_type": "execute_result"
        }
      ],
      "source": [
        "numbers = [1, 2, 3, 4, 5]\n",
        "numbers"
      ]
    },
    {
      "cell_type": "code",
      "execution_count": null,
      "metadata": {
        "id": "Y6qixQN3UuJz",
        "outputId": "1380853b-086e-4f1a-cbba-35eb6e41599f"
      },
      "outputs": [
        {
          "data": {
            "text/plain": [
              "0"
            ]
          },
          "execution_count": 20,
          "metadata": {},
          "output_type": "execute_result"
        }
      ],
      "source": [
        "sum = 0\n",
        "sum"
      ]
    },
    {
      "cell_type": "markdown",
      "metadata": {
        "id": "dvq8Dlh8UuJ0"
      },
      "source": [
        "## Q13. Frequency\n",
        "\n",
        "Write a program to calculate the frequency of each element in a list by storing the frequencies in a dictionary. Then, print the dictionary with the frequencies."
      ]
    },
    {
      "cell_type": "code",
      "execution_count": null,
      "metadata": {
        "id": "dSjc7t6CUuJ1",
        "outputId": "f4ff0261-6fe6-4308-90c8-45ba45bd59cd"
      },
      "outputs": [
        {
          "data": {
            "text/plain": [
              "[1, 2, 3, 2, 3, 1, 0, 5, 4, 2, 6]"
            ]
          },
          "execution_count": 21,
          "metadata": {},
          "output_type": "execute_result"
        }
      ],
      "source": [
        "numbers = [1, 2, 3, 2, 3, 1, 0, 5, 4, 2, 6]\n",
        "numbers"
      ]
    }
  ],
  "metadata": {
    "colab": {
      "provenance": [],
      "include_colab_link": true
    },
    "kernelspec": {
      "display_name": "Python 3",
      "language": "python",
      "name": "python3"
    },
    "language_info": {
      "codemirror_mode": {
        "name": "ipython",
        "version": 3
      },
      "file_extension": ".py",
      "mimetype": "text/x-python",
      "name": "python",
      "nbconvert_exporter": "python",
      "pygments_lexer": "ipython3",
      "version": "3.11.1"
    },
    "vscode": {
      "interpreter": {
        "hash": "5c7b89af1651d0b8571dde13640ecdccf7d5a6204171d6ab33e7c296e100e08a"
      }
    }
  },
  "nbformat": 4,
  "nbformat_minor": 0
}